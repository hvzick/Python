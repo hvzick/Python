{
 "cells": [
  {
   "cell_type": "markdown",
   "source": [
    "### Re organising arrays"
   ],
   "metadata": {
    "collapsed": false
   },
   "id": "e4503de659cfa269"
  },
  {
   "cell_type": "code",
   "outputs": [],
   "source": [
    "import numpy as np"
   ],
   "metadata": {
    "collapsed": false,
    "ExecuteTime": {
     "end_time": "2024-02-05T07:16:57.141191900Z",
     "start_time": "2024-02-05T07:16:56.601338700Z"
    }
   },
   "id": "7bf788cb7cba8599",
   "execution_count": 1
  },
  {
   "cell_type": "code",
   "outputs": [
    {
     "data": {
      "text/plain": "array([[1, 2, 3],\n       [2, 5, 8]])"
     },
     "execution_count": 4,
     "metadata": {},
     "output_type": "execute_result"
    }
   ],
   "source": [
    "a1 = np.array([(1, 2, 3), (2, 5, 8)])\n",
    "a1"
   ],
   "metadata": {
    "collapsed": false,
    "ExecuteTime": {
     "end_time": "2024-02-05T07:17:23.013351800Z",
     "start_time": "2024-02-05T07:17:22.999856600Z"
    }
   },
   "id": "bb908366392741be",
   "execution_count": 4
  },
  {
   "cell_type": "code",
   "outputs": [
    {
     "data": {
      "text/plain": "(2, 3)"
     },
     "execution_count": 16,
     "metadata": {},
     "output_type": "execute_result"
    }
   ],
   "source": [
    "# to check shape\n",
    "a1.shape"
   ],
   "metadata": {
    "collapsed": false,
    "ExecuteTime": {
     "end_time": "2024-02-05T07:22:56.280466600Z",
     "start_time": "2024-02-05T07:22:56.253620Z"
    }
   },
   "id": "6c1faab829d1a5ab",
   "execution_count": 16
  },
  {
   "cell_type": "code",
   "outputs": [
    {
     "data": {
      "text/plain": "array([[1, 2],\n       [2, 5],\n       [3, 8]])"
     },
     "execution_count": 17,
     "metadata": {},
     "output_type": "execute_result"
    }
   ],
   "source": [
    "# transposes the data\n",
    "a1.T"
   ],
   "metadata": {
    "collapsed": false,
    "ExecuteTime": {
     "end_time": "2024-02-05T07:22:56.663533800Z",
     "start_time": "2024-02-05T07:22:56.616749900Z"
    }
   },
   "id": "4e3582e3c9a63b78",
   "execution_count": 17
  },
  {
   "cell_type": "code",
   "outputs": [
    {
     "data": {
      "text/plain": "array([[1],\n       [2],\n       [3],\n       [2],\n       [5],\n       [8]])"
     },
     "execution_count": 18,
     "metadata": {},
     "output_type": "execute_result"
    }
   ],
   "source": [
    "b =  a1.reshape((6,1))\n",
    "b"
   ],
   "metadata": {
    "collapsed": false,
    "ExecuteTime": {
     "end_time": "2024-02-05T07:22:56.957722700Z",
     "start_time": "2024-02-05T07:22:56.842214800Z"
    }
   },
   "id": "7def9916fe69ea6e",
   "execution_count": 18
  },
  {
   "cell_type": "code",
   "outputs": [
    {
     "data": {
      "text/plain": "array([[3, 7, 7],\n       [9, 3, 6]])"
     },
     "execution_count": 19,
     "metadata": {},
     "output_type": "execute_result"
    }
   ],
   "source": [
    "a2 = np.array([(3, 7, 7), (9, 3, 6)])\n",
    "a2"
   ],
   "metadata": {
    "collapsed": false,
    "ExecuteTime": {
     "end_time": "2024-02-05T07:22:57.011333100Z",
     "start_time": "2024-02-05T07:22:56.963287800Z"
    }
   },
   "id": "b088849bb9cc3975",
   "execution_count": 19
  },
  {
   "cell_type": "code",
   "outputs": [
    {
     "data": {
      "text/plain": "array([[1, 2, 3],\n       [2, 5, 8],\n       [3, 7, 7],\n       [9, 3, 6]])"
     },
     "execution_count": 20,
     "metadata": {},
     "output_type": "execute_result"
    }
   ],
   "source": [
    "# to vertically stack data\n",
    "np.vstack([a1,a2])"
   ],
   "metadata": {
    "collapsed": false,
    "ExecuteTime": {
     "end_time": "2024-02-05T07:22:57.170015200Z",
     "start_time": "2024-02-05T07:22:57.095015500Z"
    }
   },
   "id": "d829851d15da2611",
   "execution_count": 20
  },
  {
   "cell_type": "code",
   "outputs": [
    {
     "data": {
      "text/plain": "array([[1, 2, 3, 3, 7, 7],\n       [2, 5, 8, 9, 3, 6]])"
     },
     "execution_count": 21,
     "metadata": {},
     "output_type": "execute_result"
    }
   ],
   "source": [
    "# to horizontally stack data\n",
    "np.hstack([a1,a2])"
   ],
   "metadata": {
    "collapsed": false,
    "ExecuteTime": {
     "end_time": "2024-02-05T07:22:57.407639Z",
     "start_time": "2024-02-05T07:22:57.361935300Z"
    }
   },
   "id": "b9fa3dfd93ff88ef",
   "execution_count": 21
  },
  {
   "cell_type": "code",
   "outputs": [],
   "source": [],
   "metadata": {
    "collapsed": false,
    "ExecuteTime": {
     "end_time": "2024-02-05T07:22:57.456126500Z",
     "start_time": "2024-02-05T07:22:57.411516100Z"
    }
   },
   "id": "cac94ec1e3bd570",
   "execution_count": 21
  },
  {
   "cell_type": "code",
   "outputs": [],
   "source": [],
   "metadata": {
    "collapsed": false
   },
   "id": "ea07ca1797e41917"
  }
 ],
 "metadata": {
  "kernelspec": {
   "display_name": "Python 3",
   "language": "python",
   "name": "python3"
  },
  "language_info": {
   "codemirror_mode": {
    "name": "ipython",
    "version": 2
   },
   "file_extension": ".py",
   "mimetype": "text/x-python",
   "name": "python",
   "nbconvert_exporter": "python",
   "pygments_lexer": "ipython2",
   "version": "2.7.6"
  }
 },
 "nbformat": 4,
 "nbformat_minor": 5
}
