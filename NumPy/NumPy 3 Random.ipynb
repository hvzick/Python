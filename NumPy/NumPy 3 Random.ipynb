{
 "cells": [
  {
   "cell_type": "markdown",
   "source": [
    "### Random numbers\n"
   ],
   "metadata": {
    "collapsed": false
   },
   "id": "ab59dcee4d0f2708"
  },
  {
   "cell_type": "code",
   "outputs": [
    {
     "data": {
      "text/plain": "array([[0.75012407, 0.84298311, 0.96046108, 0.9873941 ],\n       [0.61621759, 0.46882474, 0.07072961, 0.96947916],\n       [0.85115385, 0.24690618, 0.63552032, 0.64609555]])"
     },
     "execution_count": 2,
     "metadata": {},
     "output_type": "execute_result"
    }
   ],
   "source": [
    "import numpy as np\n",
    "# random decimal numbers\n",
    "np.random.rand(3, 4)"
   ],
   "metadata": {
    "collapsed": false,
    "ExecuteTime": {
     "end_time": "2024-02-04T10:16:24.503042700Z",
     "start_time": "2024-02-04T10:16:24.490904700Z"
    }
   },
   "id": "cae2ee1dcb6fbb1e",
   "execution_count": 2
  },
  {
   "cell_type": "code",
   "outputs": [
    {
     "data": {
      "text/plain": "array([[ 8,  8,  8],\n       [ 4, 11, 12],\n       [ 7,  9,  6]])"
     },
     "execution_count": 5,
     "metadata": {},
     "output_type": "execute_result"
    }
   ],
   "source": [
    "# random integer numbers\n",
    "np.random.randint(15, size=(3, 3))"
   ],
   "metadata": {
    "collapsed": false,
    "ExecuteTime": {
     "end_time": "2024-02-04T10:17:34.482926800Z",
     "start_time": "2024-02-04T10:17:34.468179600Z"
    }
   },
   "id": "7299a2029029724b",
   "execution_count": 5
  },
  {
   "cell_type": "code",
   "outputs": [
    {
     "data": {
      "text/plain": "array([[11, 10, 10],\n       [14, 12, 10],\n       [11, 14, 13]])"
     },
     "execution_count": 6,
     "metadata": {},
     "output_type": "execute_result"
    }
   ],
   "source": [
    "# random integer numbers between range\n",
    "np.random.randint(10, 15, size=(3, 3))"
   ],
   "metadata": {
    "collapsed": false,
    "ExecuteTime": {
     "end_time": "2024-02-04T10:18:15.061932600Z",
     "start_time": "2024-02-04T10:18:15.048870Z"
    }
   },
   "id": "e9ae5559a2b39f01",
   "execution_count": 6
  },
  {
   "cell_type": "code",
   "outputs": [
    {
     "data": {
      "text/plain": "array([[1., 0., 0.],\n       [0., 1., 0.],\n       [0., 0., 1.]])"
     },
     "execution_count": 8,
     "metadata": {},
     "output_type": "execute_result"
    }
   ],
   "source": [
    "# identity matrix\n",
    "np.identity(3)"
   ],
   "metadata": {
    "collapsed": false,
    "ExecuteTime": {
     "end_time": "2024-02-04T10:19:03.154989500Z",
     "start_time": "2024-02-04T10:19:03.142134Z"
    }
   },
   "id": "4bb700bb9a95119f",
   "execution_count": 8
  },
  {
   "cell_type": "code",
   "outputs": [
    {
     "data": {
      "text/plain": "array([[1, 1, 1, 1, 1],\n       [1, 0, 0, 0, 1],\n       [1, 0, 9, 0, 1],\n       [1, 0, 0, 0, 1],\n       [1, 1, 1, 1, 1]])"
     },
     "execution_count": 12,
     "metadata": {},
     "output_type": "execute_result"
    }
   ],
   "source": [
    "# initialize this array\n",
    "# 1 1 1 1 1\n",
    "# 1 0 0 0 1\n",
    "# 1 0 9 0 1\n",
    "# 1 0 0 0 1\n",
    "# 1 1 1 1 1\n",
    "arr = [[1, 1, 1, 1, 1], [1, 0, 0, 0, 1], [1, 0, 9, 0, 1], [1, 0, 0, 0, 1], [1, 1, 1, 1, 1]]\n",
    "np.array(arr)"
   ],
   "metadata": {
    "collapsed": false,
    "ExecuteTime": {
     "end_time": "2024-02-04T10:23:19.145109Z",
     "start_time": "2024-02-04T10:23:19.136631600Z"
    }
   },
   "id": "564fa4e2c2c30b56",
   "execution_count": 12
  },
  {
   "cell_type": "code",
   "outputs": [
    {
     "data": {
      "text/plain": "array([[1., 1., 1., 1., 1.],\n       [1., 0., 0., 0., 1.],\n       [1., 0., 9., 0., 1.],\n       [1., 0., 0., 0., 1.],\n       [1., 1., 1., 1., 1.]])"
     },
     "execution_count": 21,
     "metadata": {},
     "output_type": "execute_result"
    }
   ],
   "source": [
    "# or we can do it like this\n",
    "a = np.ones([5, 5])\n",
    "a\n",
    "z = np.zeros([3,3])\n",
    "z[1, 1] = 9\n",
    "z\n",
    "a[1:4, 1:4] = z\n",
    "a"
   ],
   "metadata": {
    "collapsed": false,
    "ExecuteTime": {
     "end_time": "2024-02-04T10:27:51.591239400Z",
     "start_time": "2024-02-04T10:27:51.583692900Z"
    }
   },
   "id": "7ee5e9bcaadedb81",
   "execution_count": 21
  },
  {
   "cell_type": "code",
   "outputs": [],
   "source": [],
   "metadata": {
    "collapsed": false
   },
   "id": "cb34f3c75ad8d80c"
  }
 ],
 "metadata": {
  "kernelspec": {
   "display_name": "Python 3",
   "language": "python",
   "name": "python3"
  },
  "language_info": {
   "codemirror_mode": {
    "name": "ipython",
    "version": 2
   },
   "file_extension": ".py",
   "mimetype": "text/x-python",
   "name": "python",
   "nbconvert_exporter": "python",
   "pygments_lexer": "ipython2",
   "version": "2.7.6"
  }
 },
 "nbformat": 4,
 "nbformat_minor": 5
}
