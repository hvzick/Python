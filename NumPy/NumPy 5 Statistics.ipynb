{
 "cells": [
  {
   "cell_type": "markdown",
   "source": [
    "### Statistics"
   ],
   "metadata": {
    "collapsed": false
   },
   "id": "e52a526484ab6dbf"
  },
  {
   "cell_type": "code",
   "outputs": [],
   "source": [
    "import numpy as np"
   ],
   "metadata": {
    "collapsed": false,
    "ExecuteTime": {
     "end_time": "2024-02-05T07:14:09.388445900Z",
     "start_time": "2024-02-05T07:14:09.179675800Z"
    }
   },
   "id": "4d19de82cb0268b7",
   "execution_count": 1
  },
  {
   "cell_type": "code",
   "outputs": [],
   "source": [
    "stats = np.array([(1, 2, 3), (2, 5, 8)])"
   ],
   "metadata": {
    "collapsed": false,
    "ExecuteTime": {
     "end_time": "2024-02-05T07:14:18.126507300Z",
     "start_time": "2024-02-05T07:14:18.095150Z"
    }
   },
   "id": "b1e6c88c779c8abb",
   "execution_count": 3
  },
  {
   "cell_type": "code",
   "outputs": [
    {
     "data": {
      "text/plain": "1"
     },
     "execution_count": 4,
     "metadata": {},
     "output_type": "execute_result"
    }
   ],
   "source": [
    "np.min(stats)"
   ],
   "metadata": {
    "collapsed": false,
    "ExecuteTime": {
     "end_time": "2024-02-05T07:14:20.731022100Z",
     "start_time": "2024-02-05T07:14:20.691623Z"
    }
   },
   "id": "e9fdd5a54b8d8b99",
   "execution_count": 4
  },
  {
   "cell_type": "code",
   "outputs": [
    {
     "data": {
      "text/plain": "3.5"
     },
     "execution_count": 5,
     "metadata": {},
     "output_type": "execute_result"
    }
   ],
   "source": [
    "np.mean(stats)"
   ],
   "metadata": {
    "collapsed": false,
    "ExecuteTime": {
     "end_time": "2024-02-05T07:14:29.714232500Z",
     "start_time": "2024-02-05T07:14:29.694745400Z"
    }
   },
   "id": "fe03b888d62b6a50",
   "execution_count": 5
  },
  {
   "cell_type": "code",
   "outputs": [
    {
     "data": {
      "text/plain": "8"
     },
     "execution_count": 7,
     "metadata": {},
     "output_type": "execute_result"
    }
   ],
   "source": [
    "np.max(stats)"
   ],
   "metadata": {
    "collapsed": false,
    "ExecuteTime": {
     "end_time": "2024-02-05T07:15:10.546619Z",
     "start_time": "2024-02-05T07:15:10.528401600Z"
    }
   },
   "id": "33ba81973b052ea1",
   "execution_count": 7
  },
  {
   "cell_type": "code",
   "outputs": [
    {
     "data": {
      "text/plain": "2.5"
     },
     "execution_count": 8,
     "metadata": {},
     "output_type": "execute_result"
    }
   ],
   "source": [
    "np.median(stats)"
   ],
   "metadata": {
    "collapsed": false,
    "ExecuteTime": {
     "end_time": "2024-02-05T07:15:23.797191400Z",
     "start_time": "2024-02-05T07:15:23.748436200Z"
    }
   },
   "id": "e091cdb075fcda75",
   "execution_count": 8
  },
  {
   "cell_type": "code",
   "outputs": [
    {
     "data": {
      "text/plain": "21"
     },
     "execution_count": 9,
     "metadata": {},
     "output_type": "execute_result"
    }
   ],
   "source": [
    "np.sum(stats)"
   ],
   "metadata": {
    "collapsed": false,
    "ExecuteTime": {
     "end_time": "2024-02-05T07:15:45.898371700Z",
     "start_time": "2024-02-05T07:15:45.863601900Z"
    }
   },
   "id": "be295a937926ad0c",
   "execution_count": 9
  },
  {
   "cell_type": "code",
   "outputs": [],
   "source": [],
   "metadata": {
    "collapsed": false
   },
   "id": "536ba091bf50ea2d"
  }
 ],
 "metadata": {
  "kernelspec": {
   "display_name": "Python 3",
   "language": "python",
   "name": "python3"
  },
  "language_info": {
   "codemirror_mode": {
    "name": "ipython",
    "version": 2
   },
   "file_extension": ".py",
   "mimetype": "text/x-python",
   "name": "python",
   "nbconvert_exporter": "python",
   "pygments_lexer": "ipython2",
   "version": "2.7.6"
  }
 },
 "nbformat": 4,
 "nbformat_minor": 5
}
