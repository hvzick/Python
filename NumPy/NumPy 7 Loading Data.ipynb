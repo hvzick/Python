{
 "cells": [
  {
   "cell_type": "markdown",
   "source": [
    "### Loading Data from A file"
   ],
   "metadata": {
    "collapsed": false
   },
   "id": "851f01cc6500c8df"
  },
  {
   "cell_type": "code",
   "outputs": [],
   "source": [
    "import numpy as np"
   ],
   "metadata": {
    "collapsed": false,
    "ExecuteTime": {
     "end_time": "2024-02-05T07:25:44.655705200Z",
     "start_time": "2024-02-05T07:25:44.232908300Z"
    }
   },
   "id": "15613fbfdb607579",
   "execution_count": 2
  },
  {
   "cell_type": "code",
   "outputs": [],
   "source": [
    "fd = np.genfromtxt('NumPy Data.txt', delimiter=',')"
   ],
   "metadata": {
    "collapsed": false,
    "ExecuteTime": {
     "end_time": "2024-02-05T07:26:48.062157900Z",
     "start_time": "2024-02-05T07:26:48.036704800Z"
    }
   },
   "id": "fcc0cbd215555577",
   "execution_count": 4
  },
  {
   "cell_type": "code",
   "outputs": [
    {
     "data": {
      "text/plain": "array([[  1.,   2.,   3.,   4.,   5.,   6.,   7.,   8.,   9.,   0.],\n       [ 11.,  22.,  33.,  44.,  55.,  66.,  77.,  88.,  99.,   0.],\n       [111., 222., 333., 444., 555., 666., 777., 888., 999.,   0.]])"
     },
     "execution_count": 5,
     "metadata": {},
     "output_type": "execute_result"
    }
   ],
   "source": [
    "fd"
   ],
   "metadata": {
    "collapsed": false,
    "ExecuteTime": {
     "end_time": "2024-02-05T07:26:56.702068900Z",
     "start_time": "2024-02-05T07:26:56.691529900Z"
    }
   },
   "id": "61b372f5b5a8da3b",
   "execution_count": 5
  },
  {
   "cell_type": "markdown",
   "source": [
    "### Advanced Indexing"
   ],
   "metadata": {
    "collapsed": false
   },
   "id": "dc8fa4d74a2abb6a"
  },
  {
   "cell_type": "code",
   "outputs": [
    {
     "data": {
      "text/plain": "array([[False, False, False, False, False, False, False, False, False,\n        False],\n       [False, False, False, False,  True,  True,  True,  True,  True,\n        False],\n       [ True,  True,  True,  True,  True,  True,  True,  True,  True,\n        False]])"
     },
     "execution_count": 6,
     "metadata": {},
     "output_type": "execute_result"
    }
   ],
   "source": [
    "fd > 50"
   ],
   "metadata": {
    "collapsed": false,
    "ExecuteTime": {
     "end_time": "2024-02-05T07:28:15.157028200Z",
     "start_time": "2024-02-05T07:28:15.107535700Z"
    }
   },
   "id": "c981a1fff3cd1314",
   "execution_count": 6
  },
  {
   "cell_type": "code",
   "outputs": [
    {
     "data": {
      "text/plain": "array([ 55.,  66.,  77.,  88.,  99., 111., 222., 333., 444., 555., 666.,\n       777., 888., 999.])"
     },
     "execution_count": 7,
     "metadata": {},
     "output_type": "execute_result"
    }
   ],
   "source": [
    "fd[fd > 50]"
   ],
   "metadata": {
    "collapsed": false,
    "ExecuteTime": {
     "end_time": "2024-02-05T07:28:44.195953200Z",
     "start_time": "2024-02-05T07:28:44.170894500Z"
    }
   },
   "id": "e51208aca649ef66",
   "execution_count": 7
  },
  {
   "cell_type": "code",
   "outputs": [
    {
     "data": {
      "text/plain": "array([False, False, False])"
     },
     "execution_count": 8,
     "metadata": {},
     "output_type": "execute_result"
    }
   ],
   "source": [
    "np.all(fd > 50, axis=1)"
   ],
   "metadata": {
    "collapsed": false,
    "ExecuteTime": {
     "end_time": "2024-02-05T07:30:30.007325400Z",
     "start_time": "2024-02-05T07:30:29.970286Z"
    }
   },
   "id": "978e672c4e7255d7",
   "execution_count": 8
  },
  {
   "cell_type": "code",
   "outputs": [
    {
     "data": {
      "text/plain": "array([[False, False, False, False, False, False, False, False, False,\n        False],\n       [False, False, False, False,  True,  True,  True,  True,  True,\n        False],\n       [False, False, False, False, False, False, False, False, False,\n        False]])"
     },
     "execution_count": 10,
     "metadata": {},
     "output_type": "execute_result"
    }
   ],
   "source": [
    "((fd > 50) & (fd < 100))"
   ],
   "metadata": {
    "collapsed": false,
    "ExecuteTime": {
     "end_time": "2024-02-05T07:31:41.615754600Z",
     "start_time": "2024-02-05T07:31:41.596929Z"
    }
   },
   "id": "e7adb54da7817369",
   "execution_count": 10
  },
  {
   "cell_type": "code",
   "outputs": [
    {
     "data": {
      "text/plain": "array([[ 1,  2,  3,  4,  5],\n       [ 6,  7,  8,  9, 10],\n       [11, 12, 13, 14, 15],\n       [16, 17, 18, 19, 20],\n       [21, 22, 23, 24, 25]])"
     },
     "execution_count": 11,
     "metadata": {},
     "output_type": "execute_result"
    }
   ],
   "source": [
    "vg = [[1,2,3,4,5],[6,7,8,9,10],[11,12,13,14,15,],[16,17,18,19,20],[21,22,23,24,25]]\n",
    "ax = np.array(vg)\n",
    "ax"
   ],
   "metadata": {
    "collapsed": false,
    "ExecuteTime": {
     "end_time": "2024-02-05T07:33:27.377738700Z",
     "start_time": "2024-02-05T07:33:27.330174800Z"
    }
   },
   "id": "4dd87f3c506dc9cd",
   "execution_count": 11
  },
  {
   "cell_type": "code",
   "outputs": [
    {
     "data": {
      "text/plain": "array([[19, 20],\n       [24, 25]])"
     },
     "execution_count": 30,
     "metadata": {},
     "output_type": "execute_result"
    }
   ],
   "source": [
    "ax[3:, 3:]"
   ],
   "metadata": {
    "collapsed": false,
    "ExecuteTime": {
     "end_time": "2024-02-05T07:43:15.283949600Z",
     "start_time": "2024-02-05T07:43:15.259886800Z"
    }
   },
   "id": "f585c03b954e6131",
   "execution_count": 30
  },
  {
   "cell_type": "code",
   "outputs": [
    {
     "data": {
      "text/plain": "array([ 2,  8, 14, 20])"
     },
     "execution_count": 23,
     "metadata": {},
     "output_type": "execute_result"
    }
   ],
   "source": [
    "ax[[0,1,2,3],[1,2,3,4]]"
   ],
   "metadata": {
    "collapsed": false,
    "ExecuteTime": {
     "end_time": "2024-02-05T07:40:01.218679900Z",
     "start_time": "2024-02-05T07:40:01.184271300Z"
    }
   },
   "id": "da0244ff5b9930e4",
   "execution_count": 23
  },
  {
   "cell_type": "code",
   "outputs": [
    {
     "data": {
      "text/plain": "array([[11, 12],\n       [16, 17]])"
     },
     "execution_count": 26,
     "metadata": {},
     "output_type": "execute_result"
    }
   ],
   "source": [
    "ax[2:4, 0:2]"
   ],
   "metadata": {
    "collapsed": false,
    "ExecuteTime": {
     "end_time": "2024-02-05T07:41:03.875857700Z",
     "start_time": "2024-02-05T07:41:03.827756600Z"
    }
   },
   "id": "829809c51e607943",
   "execution_count": 26
  },
  {
   "cell_type": "code",
   "outputs": [],
   "source": [],
   "metadata": {
    "collapsed": false
   },
   "id": "c25059648a6ce57d"
  }
 ],
 "metadata": {
  "kernelspec": {
   "display_name": "Python 3",
   "language": "python",
   "name": "python3"
  },
  "language_info": {
   "codemirror_mode": {
    "name": "ipython",
    "version": 2
   },
   "file_extension": ".py",
   "mimetype": "text/x-python",
   "name": "python",
   "nbconvert_exporter": "python",
   "pygments_lexer": "ipython2",
   "version": "2.7.6"
  }
 },
 "nbformat": 4,
 "nbformat_minor": 5
}
