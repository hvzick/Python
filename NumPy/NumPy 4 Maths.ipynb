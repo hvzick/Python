{
 "cells": [
  {
   "cell_type": "code",
   "outputs": [],
   "source": [
    "import numpy as np"
   ],
   "metadata": {
    "collapsed": false,
    "ExecuteTime": {
     "end_time": "2024-02-04T10:30:34.348005700Z",
     "start_time": "2024-02-04T10:30:34.181207Z"
    }
   },
   "id": "aa46527188556dad",
   "execution_count": 5
  },
  {
   "cell_type": "markdown",
   "source": [
    "### Maths"
   ],
   "metadata": {
    "collapsed": false
   },
   "id": "6078ffee550192cc"
  },
  {
   "cell_type": "code",
   "outputs": [
    {
     "data": {
      "text/plain": "array([[6, 3],\n       [5, 4]])"
     },
     "execution_count": 8,
     "metadata": {},
     "output_type": "execute_result"
    }
   ],
   "source": [
    "a = [[6, 3], [5, 4]]\n",
    "b = [[7, 1], [9, 2]]\n",
    "ar = np.array(a)\n",
    "br = np.array(b)\n",
    "ar"
   ],
   "metadata": {
    "collapsed": false,
    "ExecuteTime": {
     "end_time": "2024-02-04T10:30:51.206904700Z",
     "start_time": "2024-02-04T10:30:51.196013800Z"
    }
   },
   "id": "7217257eed82ec80",
   "execution_count": 8
  },
  {
   "cell_type": "code",
   "outputs": [
    {
     "data": {
      "text/plain": "array([[7, 1],\n       [9, 2]])"
     },
     "execution_count": 9,
     "metadata": {},
     "output_type": "execute_result"
    }
   ],
   "source": [
    "br"
   ],
   "metadata": {
    "collapsed": false,
    "ExecuteTime": {
     "end_time": "2024-02-04T10:30:59.255461800Z",
     "start_time": "2024-02-04T10:30:59.240505600Z"
    }
   },
   "id": "c903b2782cd835b6",
   "execution_count": 9
  },
  {
   "cell_type": "code",
   "outputs": [
    {
     "data": {
      "text/plain": "array([[13,  4],\n       [14,  6]])"
     },
     "execution_count": 7,
     "metadata": {},
     "output_type": "execute_result"
    }
   ],
   "source": [
    "ar + br"
   ],
   "metadata": {
    "collapsed": false,
    "ExecuteTime": {
     "end_time": "2024-02-04T10:30:37.776390600Z",
     "start_time": "2024-02-04T10:30:37.761683300Z"
    }
   },
   "id": "16a6560129a5d904",
   "execution_count": 7
  },
  {
   "cell_type": "code",
   "outputs": [
    {
     "data": {
      "text/plain": "array([[-1,  2],\n       [-4,  2]])"
     },
     "execution_count": 10,
     "metadata": {},
     "output_type": "execute_result"
    }
   ],
   "source": [
    "ar - br "
   ],
   "metadata": {
    "collapsed": false,
    "ExecuteTime": {
     "end_time": "2024-02-04T10:31:07.903564700Z",
     "start_time": "2024-02-04T10:31:07.886712600Z"
    }
   },
   "id": "58a38877fccf71af",
   "execution_count": 10
  },
  {
   "cell_type": "code",
   "outputs": [
    {
     "data": {
      "text/plain": "array([[42,  3],\n       [45,  8]])"
     },
     "execution_count": 11,
     "metadata": {},
     "output_type": "execute_result"
    }
   ],
   "source": [
    "ar * br"
   ],
   "metadata": {
    "collapsed": false,
    "ExecuteTime": {
     "end_time": "2024-02-04T10:31:13.849856700Z",
     "start_time": "2024-02-04T10:31:13.821947300Z"
    }
   },
   "id": "9216124ed6bcc5e3",
   "execution_count": 11
  },
  {
   "cell_type": "code",
   "outputs": [
    {
     "data": {
      "text/plain": "array([[0.85714286, 3.        ],\n       [0.55555556, 2.        ]])"
     },
     "execution_count": 12,
     "metadata": {},
     "output_type": "execute_result"
    }
   ],
   "source": [
    "ar / br"
   ],
   "metadata": {
    "collapsed": false,
    "ExecuteTime": {
     "end_time": "2024-02-04T10:31:17.317032200Z",
     "start_time": "2024-02-04T10:31:17.303190100Z"
    }
   },
   "id": "5968e005e9f9252",
   "execution_count": 12
  },
  {
   "cell_type": "code",
   "outputs": [
    {
     "data": {
      "text/plain": "array([[36,  9],\n       [25, 16]])"
     },
     "execution_count": 14,
     "metadata": {},
     "output_type": "execute_result"
    }
   ],
   "source": [
    "# raise power\n",
    "ar ** 2"
   ],
   "metadata": {
    "collapsed": false,
    "ExecuteTime": {
     "end_time": "2024-02-04T10:32:10.580538900Z",
     "start_time": "2024-02-04T10:32:10.558455200Z"
    }
   },
   "id": "917bfc904bf23c78",
   "execution_count": 14
  },
  {
   "cell_type": "code",
   "outputs": [
    {
     "data": {
      "text/plain": "array([[-0.2794155 ,  0.14112001],\n       [-0.95892427, -0.7568025 ]])"
     },
     "execution_count": 15,
     "metadata": {},
     "output_type": "execute_result"
    }
   ],
   "source": [
    "# trigonometric fnctions\n",
    "np.sin(ar)"
   ],
   "metadata": {
    "collapsed": false,
    "ExecuteTime": {
     "end_time": "2024-02-04T10:32:44.294964500Z",
     "start_time": "2024-02-04T10:32:44.279069100Z"
    }
   },
   "id": "ca67154ea6dd28b",
   "execution_count": 15
  },
  {
   "cell_type": "code",
   "outputs": [
    {
     "data": {
      "text/plain": "array([[2.44948974, 1.73205081],\n       [2.23606798, 2.        ]])"
     },
     "execution_count": 17,
     "metadata": {},
     "output_type": "execute_result"
    }
   ],
   "source": [
    "# check square root\n",
    "np.sqrt(ar)"
   ],
   "metadata": {
    "collapsed": false,
    "ExecuteTime": {
     "end_time": "2024-02-04T10:33:17.590795800Z",
     "start_time": "2024-02-04T10:33:17.578623200Z"
    }
   },
   "id": "c8459eec57824d23",
   "execution_count": 17
  },
  {
   "cell_type": "code",
   "outputs": [],
   "source": [],
   "metadata": {
    "collapsed": false
   },
   "id": "cbaf2678978e5f66"
  }
 ],
 "metadata": {
  "kernelspec": {
   "display_name": "Python 3",
   "language": "python",
   "name": "python3"
  },
  "language_info": {
   "codemirror_mode": {
    "name": "ipython",
    "version": 2
   },
   "file_extension": ".py",
   "mimetype": "text/x-python",
   "name": "python",
   "nbconvert_exporter": "python",
   "pygments_lexer": "ipython2",
   "version": "2.7.6"
  }
 },
 "nbformat": 4,
 "nbformat_minor": 5
}
