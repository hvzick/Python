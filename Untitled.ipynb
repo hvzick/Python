{
 "cells": [
  {
   "cell_type": "markdown",
   "id": "c562b77b",
   "metadata": {},
   "source": [
    "### Binary Search"
   ]
  },
  {
   "cell_type": "code",
   "execution_count": 2,
   "id": "35d12893",
   "metadata": {},
   "outputs": [
    {
     "name": "stdout",
     "output_type": "stream",
     "text": [
      "Enter Data you want to search in this Array: [15, 55, 67, 89, 113, 136, 178, 199, 213, 257, 378, 490, 515, 678, 790] : 113\n",
      "Element found at 4 index\n"
     ]
    }
   ],
   "source": [
    "def binary_search(arr, size, fdata):\n",
    "    l = 0\n",
    "    r = size - 1\n",
    "    while l <= r:\n",
    "        mid = round((l + r) / 2)\n",
    "        if fdata == arr[mid]:\n",
    "            return mid\n",
    "        elif fdata > arr[mid]:\n",
    "            l = mid + 1\n",
    "        else:\n",
    "            r = mid - 1\n",
    "    return -1\n",
    "\n",
    "def main():\n",
    "    sorted_list = [15, 55, 67, 89, 113, 136, 178, 199, 213, 257, 378, 490, 515, 678, 790]\n",
    "    data = int(input(f\"Enter Data you want to search in this Array: {sorted_list} : \"))\n",
    "    size_of_list = len(sorted_list)\n",
    "    binarySearchOutput = binary_search(sorted_list, size_of_list, data)\n",
    "    if binarySearchOutput != -1:\n",
    "        print(f\"Element found at {binarySearchOutput} index\")\n",
    "    else:\n",
    "        print(\"Element not found in the list\")\n",
    "\n",
    "if __name__ == \"__main__\":\n",
    "    main()\n"
   ]
  },
  {
   "cell_type": "markdown",
   "id": "0e33f11b",
   "metadata": {},
   "source": [
    "### Linear Search"
   ]
  },
  {
   "cell_type": "code",
   "execution_count": 3,
   "id": "f7b93b3e",
   "metadata": {},
   "outputs": [
    {
     "name": "stdout",
     "output_type": "stream",
     "text": [
      "Enter an element to search in the List : 76\n",
      "Element 76 found at 6 index\n"
     ]
    }
   ],
   "source": [
    "def linear_search():\n",
    "    arr = [100, 27, 3654, 45, 544, 63, 76, 8, 96, 790]\n",
    "    x = int(input(\"Enter an element to search in the List : \"))\n",
    "    a = 0\n",
    "    for i in range(len(arr)):\n",
    "        if arr[i] == x:\n",
    "            a = 1\n",
    "            break\n",
    "    if a == 1:\n",
    "        print(f\"Element {x} found at {i} index\")\n",
    "    else:\n",
    "        print(f\"Element {x} not found\")\n",
    "\n",
    "linear_search()"
   ]
  },
  {
   "cell_type": "code",
   "execution_count": 4,
   "id": "69ef846a",
   "metadata": {},
   "outputs": [
    {
     "name": "stdout",
     "output_type": "stream",
     "text": [
      "Enter an element to search in the List : 5\n",
      "Element 5 not found\n"
     ]
    }
   ],
   "source": [
    "linear_search()"
   ]
  },
  {
   "cell_type": "markdown",
   "id": "c8136279",
   "metadata": {},
   "source": [
    "### Factorial Using Recursion"
   ]
  },
  {
   "cell_type": "code",
   "execution_count": 5,
   "id": "03e1dfdd",
   "metadata": {},
   "outputs": [
    {
     "name": "stdout",
     "output_type": "stream",
     "text": [
      "Enter a number to find its Factorial: 7\n",
      "The Factorial of 7 is 5040\n"
     ]
    }
   ],
   "source": [
    "def factorial(n):\n",
    "     if n == 0 or n == 1:\n",
    "         return 1\n",
    "     else:\n",
    "         return n * factorial(n-1)\n",
    "\n",
    "def main():\n",
    "    user_input = int(input(\"Enter a number to find its Factorial: \"))\n",
    "    output = factorial(user_input)\n",
    "    print(f\"The Factorial of {user_input} is {output}\")\n",
    "\n",
    "if __name__ ==\"__main__\":\n",
    "    main()"
   ]
  },
  {
   "cell_type": "markdown",
   "id": "70fb90d9",
   "metadata": {},
   "source": [
    "### Adding elements in a Dictionary"
   ]
  },
  {
   "cell_type": "code",
   "execution_count": 6,
   "id": "1c845657",
   "metadata": {},
   "outputs": [
    {
     "data": {
      "text/plain": [
       "{1: 'Ein', 2: 'Zwei', 3: 'Drei', 4: 'Vier', 5: 'Funf', 6: 'Sechs'}"
      ]
     },
     "execution_count": 6,
     "metadata": {},
     "output_type": "execute_result"
    }
   ],
   "source": [
    "add = {\n",
    "    1: \"Ein\", 2: \"Zwei\", 3: \"Drei\", 4: \"Vier\", 5: \"Funf\"\n",
    "}\n",
    "\n",
    "add[6] = \"Sechs\"\n",
    "add\n"
   ]
  },
  {
   "cell_type": "markdown",
   "id": "5c00bf6c",
   "metadata": {},
   "source": [
    "### Removing elements in a dictionary"
   ]
  },
  {
   "cell_type": "code",
   "execution_count": 9,
   "id": "e83a5f59",
   "metadata": {},
   "outputs": [
    {
     "data": {
      "text/plain": [
       "{1: 'Ein', 3: 'Drei', 4: 'Vier', 5: 'Funf'}"
      ]
     },
     "execution_count": 9,
     "metadata": {},
     "output_type": "execute_result"
    }
   ],
   "source": [
    "add.pop(2)\n",
    "add"
   ]
  },
  {
   "cell_type": "markdown",
   "id": "afefd6d0",
   "metadata": {},
   "source": [
    "### Deleting elements in a Dictionary"
   ]
  },
  {
   "cell_type": "code",
   "execution_count": 14,
   "id": "a00e5dc0",
   "metadata": {},
   "outputs": [
    {
     "data": {
      "text/plain": [
       "{1: 'Ein', 3: 'Drei', 4: 'Vier'}"
      ]
     },
     "execution_count": 14,
     "metadata": {},
     "output_type": "execute_result"
    }
   ],
   "source": [
    "del add[5]\n",
    "add"
   ]
  },
  {
   "cell_type": "markdown",
   "id": "47b4ba74",
   "metadata": {},
   "source": [
    "### List Operators"
   ]
  },
  {
   "cell_type": "code",
   "execution_count": 15,
   "id": "3223bbb1",
   "metadata": {},
   "outputs": [
    {
     "name": "stdout",
     "output_type": "stream",
     "text": [
      "['a']\n",
      "['a', 'b', 'c']\n",
      "['c', 'd', 'e']\n",
      "\n",
      "[1, 2, 3, 4, 5]\n",
      "OLD LIST [2, 3]\n",
      "UPDATED LIST [22, 33]\n",
      "[1, 22, 33, 4, 5]\n",
      "### LIST CONCATENATING\n",
      "[1, 2, 3, 4, 5, 6]\n",
      "[1, 2, 3, 1, 2, 3, 1, 2, 3, 1, 2, 3]\n",
      "True\n"
     ]
    }
   ],
   "source": [
    "list = ['a', 'b', 'c', 'd', 'e']1\n",
    "print(list[0:1]) # Prints elements at index 0 only\n",
    "print(list[:3]) # Prints elements upto index 2 only\n",
    "print(list[2:]) # Prints elements from index 2 till end\n",
    "print() # REPLACING LISTS ELEMENTS WITH SLICING\n",
    "mylist = [1,2,3,4,5]\n",
    "print(mylist)\n",
    "print(f\"OLD LIST {mylist[1:3]}\")\n",
    "mylist[1:3] = 22,33\n",
    "print(f\"UPDATED LIST {mylist[1:3]}\")\n",
    "print(mylist)\n",
    "\n",
    "# LIST CONCATENATING\n",
    "print(\"### LIST CONCATENATING\")\n",
    "list1 = [1,2,3]\n",
    "list2 = [4,5,6]\n",
    "list3 = list1 + list2\n",
    "print(list3)\n",
    "\n",
    "# * OPERATOR\n",
    "list4 = list1 * 4\n",
    "print(list4)\n",
    "\n",
    "# EXIST OPERATOR\n",
    "check = 1 in list1\n",
    "print(check) # RETURN TRUE IF ELEMENT EXISTS IN THE LIST OTHERWISE FALSE"
   ]
  },
  {
   "cell_type": "markdown",
   "id": "1634f679",
   "metadata": {},
   "source": [
    "### Slicing in Pandas"
   ]
  },
  {
   "cell_type": "code",
   "execution_count": 17,
   "id": "9ddb30c6",
   "metadata": {},
   "outputs": [],
   "source": [
    "import numpy as np"
   ]
  },
  {
   "cell_type": "code",
   "execution_count": 18,
   "id": "aad318a2",
   "metadata": {},
   "outputs": [
    {
     "name": "stdout",
     "output_type": "stream",
     "text": [
      "[[ 1  2  3  4  5  6  7]\n",
      " [ 8  9 10 11 12 13 14]]\n"
     ]
    }
   ],
   "source": [
    "a = np.array([[1, 2, 3, 4, 5, 6, 7], [8, 9, 10, 11, 12, 13, 14]])\n",
    "print(a)"
   ]
  },
  {
   "cell_type": "code",
   "execution_count": 26,
   "id": "111c5874",
   "metadata": {},
   "outputs": [
    {
     "data": {
      "text/plain": [
       "13"
      ]
     },
     "execution_count": 26,
     "metadata": {},
     "output_type": "execute_result"
    }
   ],
   "source": [
    "# get a specific element\n",
    "a[1, 5]"
   ]
  },
  {
   "cell_type": "code",
   "execution_count": 23,
   "id": "85dad0b4",
   "metadata": {},
   "outputs": [
    {
     "data": {
      "text/plain": [
       "array([ 3, 10])"
      ]
     },
     "execution_count": 23,
     "metadata": {},
     "output_type": "execute_result"
    }
   ],
   "source": [
    "# get a specific column\n",
    "a[:, 2]"
   ]
  },
  {
   "cell_type": "code",
   "execution_count": 25,
   "id": "b7dd6284",
   "metadata": {},
   "outputs": [
    {
     "data": {
      "text/plain": [
       "array([1, 2, 3, 4, 5, 6, 7])"
      ]
     },
     "execution_count": 25,
     "metadata": {},
     "output_type": "execute_result"
    }
   ],
   "source": [
    "# get a specific row\n",
    "a[0, :]"
   ]
  },
  {
   "cell_type": "code",
   "execution_count": 27,
   "id": "cc297a81",
   "metadata": {},
   "outputs": [
    {
     "data": {
      "text/plain": [
       "array([[0., 0., 0.],\n",
       "       [0., 0., 0.],\n",
       "       [0., 0., 0.]])"
      ]
     },
     "execution_count": 27,
     "metadata": {},
     "output_type": "execute_result"
    }
   ],
   "source": [
    "# all zero matrix\n",
    "np.zeros([3, 3])"
   ]
  },
  {
   "cell_type": "code",
   "execution_count": 28,
   "id": "1bebdbc6",
   "metadata": {},
   "outputs": [
    {
     "data": {
      "text/plain": [
       "array([[[1., 1.],\n",
       "        [1., 1.]],\n",
       "\n",
       "       [[1., 1.],\n",
       "        [1., 1.]],\n",
       "\n",
       "       [[1., 1.],\n",
       "        [1., 1.]],\n",
       "\n",
       "       [[1., 1.],\n",
       "        [1., 1.]]])"
      ]
     },
     "execution_count": 28,
     "metadata": {},
     "output_type": "execute_result"
    }
   ],
   "source": [
    "# all one metrix\n",
    "np.ones([4, 2, 2])"
   ]
  },
  {
   "cell_type": "markdown",
   "id": "64ffe5bd",
   "metadata": {},
   "source": [
    "### Statistics in Pandas"
   ]
  },
  {
   "cell_type": "code",
   "execution_count": 31,
   "id": "5a8fc892",
   "metadata": {},
   "outputs": [
    {
     "data": {
      "text/plain": [
       "3.5"
      ]
     },
     "execution_count": 31,
     "metadata": {},
     "output_type": "execute_result"
    }
   ],
   "source": [
    "stats = np.array([(1, 2, 3), (2, 5, 8)])\n",
    "# MEAN\n",
    "np.mean(stats)"
   ]
  },
  {
   "cell_type": "code",
   "execution_count": 32,
   "id": "b9bd637e",
   "metadata": {},
   "outputs": [
    {
     "data": {
      "text/plain": [
       "1"
      ]
     },
     "execution_count": 32,
     "metadata": {},
     "output_type": "execute_result"
    }
   ],
   "source": [
    "# MIN\n",
    "np.min(stats)"
   ]
  },
  {
   "cell_type": "code",
   "execution_count": 34,
   "id": "a89b03eb",
   "metadata": {},
   "outputs": [
    {
     "data": {
      "text/plain": [
       "8"
      ]
     },
     "execution_count": 34,
     "metadata": {},
     "output_type": "execute_result"
    }
   ],
   "source": [
    "# MAX\n",
    "np.max(stats)"
   ]
  },
  {
   "cell_type": "code",
   "execution_count": 35,
   "id": "29010598",
   "metadata": {},
   "outputs": [
    {
     "data": {
      "text/plain": [
       "2.5"
      ]
     },
     "execution_count": 35,
     "metadata": {},
     "output_type": "execute_result"
    }
   ],
   "source": [
    "# MEDIAN\n",
    "np.median(stats)"
   ]
  },
  {
   "cell_type": "code",
   "execution_count": 36,
   "id": "279dbaa8",
   "metadata": {},
   "outputs": [
    {
     "data": {
      "text/plain": [
       "21"
      ]
     },
     "execution_count": 36,
     "metadata": {},
     "output_type": "execute_result"
    }
   ],
   "source": [
    "# SUM\n",
    "np.sum(stats)"
   ]
  },
  {
   "cell_type": "markdown",
   "id": "65098552",
   "metadata": {},
   "source": [
    "### Sorting, Searching and Counting in Numpy"
   ]
  },
  {
   "cell_type": "code",
   "execution_count": 39,
   "id": "933f6cad",
   "metadata": {},
   "outputs": [
    {
     "data": {
      "text/plain": [
       "array([[1, 2, 3],\n",
       "       [2, 5, 8]])"
      ]
     },
     "execution_count": 39,
     "metadata": {},
     "output_type": "execute_result"
    }
   ],
   "source": [
    "np.sort(stats)\n",
    "# Sorting"
   ]
  },
  {
   "cell_type": "code",
   "execution_count": 40,
   "id": "1796d55e",
   "metadata": {},
   "outputs": [
    {
     "data": {
      "text/plain": [
       "6"
      ]
     },
     "execution_count": 40,
     "metadata": {},
     "output_type": "execute_result"
    }
   ],
   "source": [
    "np.count_nonzero(stats)\n",
    "# Counting"
   ]
  },
  {
   "cell_type": "code",
   "execution_count": 44,
   "id": "ac7a5a08",
   "metadata": {},
   "outputs": [
    {
     "data": {
      "text/plain": [
       "(array([1], dtype=int64), array([2], dtype=int64))"
      ]
     },
     "execution_count": 44,
     "metadata": {},
     "output_type": "execute_result"
    }
   ],
   "source": [
    "np.where(stats == 8)\n",
    "# Searching"
   ]
  },
  {
   "cell_type": "code",
   "execution_count": 47,
   "id": "860d1d27",
   "metadata": {},
   "outputs": [],
   "source": [
    "import matplotlib.pyplot as p"
   ]
  },
  {
   "cell_type": "markdown",
   "id": "ba7a05f6",
   "metadata": {},
   "source": [
    "### Bar Chart"
   ]
  },
  {
   "cell_type": "code",
   "execution_count": 48,
   "id": "a356b363",
   "metadata": {},
   "outputs": [
    {
     "data": {
      "image/png": "[encoded data removed]",
      "text/plain": [
       "<Figure size 640x480 with 1 Axes>"
      ]
     },
     "metadata": {},
     "output_type": "display_data"
    }
   ],
   "source": [
    "x = ['C', 'Python', 'Java', 'Rust', 'PHP']\n",
    "y = [70, 90, 85, 80, 60]\n",
    "p.xlabel('Language', fontsize=20)\n",
    "p.ylabel('Popularity', fontsize=20)\n",
    "p.bar(x, y, width=0.5, align='center')\n",
    "p.show()"
   ]
  },
  {
   "cell_type": "markdown",
   "id": "61d11fa9",
   "metadata": {},
   "source": [
    "### Label and multiple bars in one chart"
   ]
  },
  {
   "cell_type": "code",
   "execution_count": 49,
   "id": "39bb1018",
   "metadata": {},
   "outputs": [
    {
     "data": {
      "image/png": "[encoded data removed]",
      "text/plain": [
       "<Figure size 640x480 with 1 Axes>"
      ]
     },
     "metadata": {},
     "output_type": "display_data"
    }
   ],
   "source": [
    "x = ['C', 'Python', 'Java', 'Rust', 'PHP']\n",
    "y = [70, 90, 80, 75, 60]\n",
    "z = [95, 70, 85, 60, 90]\n",
    "\n",
    "width = 0.2\n",
    "b = np.arange(len(x))\n",
    "p1 = [j+width for j in b]\n",
    "\n",
    "p.xlabel('Language', fontsize=15)\n",
    "p.ylabel('Percentage', fontsize=15)\n",
    "p.title('Bar Chart', fontsize=20)\n",
    "\n",
    "\n",
    "p.bar(b, y, width, align='center', color='r', label='Popularity 2010-2019')\n",
    "p.bar(p1,z, width, align='center', color='c', label='Popularity 2000-2009')\n",
    "\n",
    "p.xticks(b+width/2, x)\n",
    "p.legend()\n",
    "p.show()"
   ]
  },
  {
   "cell_type": "markdown",
   "id": "ad9af79e",
   "metadata": {},
   "source": [
    "### Horizontal Bars"
   ]
  },
  {
   "cell_type": "code",
   "execution_count": 50,
   "id": "e388fcbe",
   "metadata": {},
   "outputs": [
    {
     "data": {
      "image/png": "[encoded data removed]",
      "text/plain": [
       "<Figure size 640x480 with 1 Axes>"
      ]
     },
     "metadata": {},
     "output_type": "display_data"
    }
   ],
   "source": [
    "x = ['C', 'Python', 'Java', 'Rust', 'PHP']\n",
    "y = [70, 90, 85, 80, 60]\n",
    "c = ['red', 'cyan', 'blue', 'green', 'yellow']\n",
    "p.ylabel('Language', fontsize=15)\n",
    "p.xlabel('Popularity', fontsize=15)\n",
    "p.barh(x, y, align='center', color=c, edgecolor='orange', linewidth=1, linestyle='dashed')\n",
    "p.show()"
   ]
  },
  {
   "cell_type": "code",
   "execution_count": 52,
   "id": "c77e5123",
   "metadata": {},
   "outputs": [],
   "source": [
    "import matplotlib.pyplot as p\n",
    "import numpy as np\n",
    "from matplotlib import pyplot as plt"
   ]
  },
  {
   "cell_type": "markdown",
   "id": "e7321fff",
   "metadata": {},
   "source": [
    "### Basic Scatter Plot"
   ]
  },
  {
   "cell_type": "code",
   "execution_count": 53,
   "id": "880e9103",
   "metadata": {},
   "outputs": [
    {
     "data": {
      "image/png": "[encoded data removed]",
      "text/plain": [
       "<Figure size 640x480 with 1 Axes>"
      ]
     },
     "metadata": {},
     "output_type": "display_data"
    }
   ],
   "source": [
    "x = ['C', 'Python', 'Java', 'Rust', 'PHP', 'JavaScript', 'Ruby', 'Scala', 'Fortran', 'TypeScript']\n",
    "y = [70, 90, 85, 80, 60, 85, 75, 65, 55, 70]\n",
    "p.xlabel('Language', fontsize=15)\n",
    "p.ylabel('Percentage', fontsize=15)\n",
    "p.title('Bar Chart', fontsize=20)\n",
    "p.scatter(x, y)\n",
    "p.show()"
   ]
  },
  {
   "cell_type": "markdown",
   "id": "29d21fb4",
   "metadata": {},
   "source": [
    "### To change transparency and appearance"
   ]
  },
  {
   "cell_type": "code",
   "execution_count": 54,
   "id": "1f19626c",
   "metadata": {},
   "outputs": [
    {
     "data": {
      "image/png": "[encoded data removed]",
      "text/plain": [
       "<Figure size 640x480 with 1 Axes>"
      ]
     },
     "metadata": {},
     "output_type": "display_data"
    }
   ],
   "source": [
    "c = ['red', 'cyan', 'blue', 'green', 'yellow', 'pink', 'orange', 'purple', 'magenta', 'white']\n",
    "x = ['C', 'Python', 'Java', 'Rust', 'PHP', 'JavaScript', 'Ruby', 'Scala', 'Fortran', 'TypeScript']\n",
    "y = [70, 90, 85, 80, 60, 85, 75, 65, 55, 70]\n",
    "sizes = [70, 90, 85, 80, 60, 85, 75, 65, 55, 70]\n",
    "p.xlabel('Language', fontsize=15)\n",
    "p.ylabel('Percentage', fontsize=15)\n",
    "p.title('Bar Chart', fontsize=20)\n",
    "p.scatter(x, y, color=c, s=sizes, alpha=0.5, marker='*')\n",
    "p.show()"
   ]
  },
  {
   "cell_type": "code",
   "execution_count": 55,
   "id": "06ffd2ad",
   "metadata": {},
   "outputs": [
    {
     "name": "stdout",
     "output_type": "stream",
     "text": [
      "[32 10 40 26 37 23 17 47 43 39 33 22 19 15 23 14 40 23 25 17 31 20 27 17\n",
      " 45 33 16 11 24 36 47 28 39 36 37 41 39 15 15 36 17 43 40 42 28 40 20 13\n",
      " 24 20]\n"
     ]
    }
   ],
   "source": [
    "x = np.random.randint(10,50, (50))\n",
    "print(x)"
   ]
  },
  {
   "cell_type": "markdown",
   "id": "f44937c0",
   "metadata": {},
   "source": [
    "### Basic Histogram"
   ]
  },
  {
   "cell_type": "code",
   "execution_count": 56,
   "id": "6b360370",
   "metadata": {},
   "outputs": [
    {
     "data": {
      "image/png": "[encoded data removed]",
      "text/plain": [
       "<Figure size 640x480 with 1 Axes>"
      ]
     },
     "metadata": {},
     "output_type": "display_data"
    }
   ],
   "source": [
    "no = [34, 36, 25, 11, 16, 17, 22, 23, 36, 11, 14, 16, 41, 45, 11, 42, 20, 20, 31, 22, 32, 40, 19, 47,\n",
    " 28, 44, 18, 23, 14, 29, 38, 20, 43, 13, 31, 12, 24, 18, 25, 25, 24, 46, 28, 37, 14, 48, 40, 40,\n",
    " 37, 19]\n",
    "p.xlabel('Range', fontsize=15)\n",
    "p.ylabel('Height', fontsize=15)\n",
    "p.title('Histogram', fontsize=20)\n",
    "p.hist(no,'auto',(0, 60), color='r', edgecolor='b')\n",
    "p.show()"
   ]
  },
  {
   "cell_type": "markdown",
   "id": "278cf744",
   "metadata": {},
   "source": [
    "### Commulative Parameter"
   ]
  },
  {
   "cell_type": "code",
   "execution_count": 57,
   "id": "867e00fc",
   "metadata": {},
   "outputs": [
    {
     "data": {
      "image/png": "[encoded data removed]",
      "text/plain": [
       "<Figure size 640x480 with 1 Axes>"
      ]
     },
     "metadata": {},
     "output_type": "display_data"
    }
   ],
   "source": [
    "no = [34, 36, 25, 11, 16, 17, 22, 23, 36, 11, 14, 16, 41, 45, 11, 42, 20, 20, 31, 22, 32, 40, 19, 47,\n",
    " 28, 44, 18, 23, 14, 29, 38, 20, 43, 13, 31, 12, 24, 18, 25, 25, 24, 46, 28, 37, 14, 48, 40, 40,\n",
    " 37, 19]\n",
    "p.xlabel('Range', fontsize=15)\n",
    "p.ylabel('Height', fontsize=15)\n",
    "p.title('Histogram', fontsize=20)\n",
    "p.hist(no,'auto',(0, 60), color='r', edgecolor='b', cumulative=1) # or commulative = -1 for descending order of height\n",
    "p.show()"
   ]
  },
  {
   "cell_type": "markdown",
   "id": "8d37b0fd",
   "metadata": {},
   "source": [
    "### Horizontal Histogram"
   ]
  },
  {
   "cell_type": "code",
   "execution_count": 58,
   "id": "5227b700",
   "metadata": {},
   "outputs": [
    {
     "data": {
      "image/png": "[encoded data removed]",
      "text/plain": [
       "<Figure size 640x480 with 1 Axes>"
      ]
     },
     "metadata": {},
     "output_type": "display_data"
    }
   ],
   "source": [
    "no = [34, 36, 25, 11, 16, 17, 22, 23, 36, 11, 14, 16, 41, 45, 11, 42, 20, 20, 31, 22, 32, 40, 19, 47,\n",
    " 28, 44, 18, 23, 14, 29, 38, 20, 43, 13, 31, 12, 24, 18, 25, 25, 24, 46, 28, 37, 14, 48, 40, 40,\n",
    " 37, 19]\n",
    "p.xlabel('Range', fontsize=15)\n",
    "p.ylabel('Height', fontsize=15)\n",
    "p.title('Histogram', fontsize=20)\n",
    "p.hist(no,'auto',(0, 60), color='r', edgecolor='b', orientation='horizontal')\n",
    "p.show()"
   ]
  },
  {
   "cell_type": "markdown",
   "id": "b6d9df70",
   "metadata": {},
   "source": [
    "### Dividing Histogram into 2 parts"
   ]
  },
  {
   "cell_type": "code",
   "execution_count": 59,
   "id": "afc2d4ee",
   "metadata": {},
   "outputs": [
    {
     "data": {
      "image/png": "[encoded data removed]",
      "text/plain": [
       "<Figure size 640x480 with 1 Axes>"
      ]
     },
     "metadata": {},
     "output_type": "display_data"
    }
   ],
   "source": [
    "no = [34, 36, 25, 11, 16, 17, 22, 23, 36, 11, 14, 16, 41, 45, 11, 42, 20, 20, 31, 22, 32, 40, 19, 47,\n",
    "      28, 44, 18, 23, 14, 29, 38, 20, 43, 13, 31, 12, 24, 18, 25, 25, 24, 46, 28, 37, 14, 48, 40, 40,\n",
    "      37, 19]\n",
    "p.xlabel('Range', fontsize=15)\n",
    "p.ylabel('Height', fontsize=15)\n",
    "p.title('Histogram', fontsize=20)\n",
    "p.hist(no)\n",
    "p.axvline(25, color='r', linestyle='--', label='Median')\n",
    "\n",
    "p.show()"
   ]
  },
  {
   "cell_type": "markdown",
   "id": "d6497e51",
   "metadata": {},
   "source": [
    "### Basic Pie Chart"
   ]
  },
  {
   "cell_type": "code",
   "execution_count": 60,
   "id": "80023ef7",
   "metadata": {},
   "outputs": [
    {
     "data": {
      "image/png": "[encoded data removed]",
      "text/plain": [
       "<Figure size 640x480 with 1 Axes>"
      ]
     },
     "metadata": {},
     "output_type": "display_data"
    }
   ],
   "source": [
    "x = [20, 30, 25, 10, 15]\n",
    "y = ['C', 'Python', 'Java', 'Rust', 'PHP']\n",
    "p.pie(x, labels=y)\n",
    "p.show()"
   ]
  },
  {
   "cell_type": "markdown",
   "id": "d032c51f",
   "metadata": {},
   "source": [
    "### Exploding Pie chart"
   ]
  },
  {
   "cell_type": "code",
   "execution_count": 61,
   "id": "32163a73",
   "metadata": {},
   "outputs": [
    {
     "data": {
      "image/png": "[encoded data removed]",
      "text/plain": [
       "<Figure size 640x480 with 1 Axes>"
      ]
     },
     "metadata": {},
     "output_type": "display_data"
    }
   ],
   "source": [
    "x = [20, 30, 25, 10, 15]\n",
    "y = ['C', 'Python', 'Java', 'Rust', 'PHP']\n",
    "c = ['red', 'cyan', 'blue', 'green', 'yellow']\n",
    "ex = [0.05, 0.05, 0.05, 0.05, 0.05]\n",
    "p.pie(x, labels=y, explode=ex, colors=c)\n",
    "p.show()"
   ]
  },
  {
   "cell_type": "markdown",
   "id": "8c809172",
   "metadata": {},
   "source": [
    "### Plotting Value, shadow and radius"
   ]
  },
  {
   "cell_type": "code",
   "execution_count": 62,
   "id": "1c8de015",
   "metadata": {},
   "outputs": [
    {
     "data": {
      "image/png": "[encoded data removed]",
      "text/plain": [
       "<Figure size 640x480 with 1 Axes>"
      ]
     },
     "metadata": {},
     "output_type": "display_data"
    }
   ],
   "source": [
    "x = [20, 30, 25, 10, 15]\n",
    "y = ['C', 'Python', 'Java', 'Rust', 'PHP']\n",
    "c = ['red', 'cyan', 'blue', 'green', 'yellow']\n",
    "ex = [0.05, 0.05, 0.05, 0.05, 0.05]\n",
    "p.pie(x, labels=y, explode=ex, colors=c, autopct='%0.2f%%', radius=1.2, shadow=True)\n",
    "p.show()"
   ]
  },
  {
   "cell_type": "markdown",
   "id": "6ce202f1",
   "metadata": {},
   "source": [
    "### Data Frames"
   ]
  },
  {
   "cell_type": "code",
   "execution_count": 63,
   "id": "0e6eceb5",
   "metadata": {},
   "outputs": [],
   "source": [
    "import pandas as p"
   ]
  },
  {
   "cell_type": "code",
   "execution_count": 69,
   "id": "30c0cd52",
   "metadata": {},
   "outputs": [
    {
     "data": {
      "text/html": [
       "<div>\n",
       "<style scoped>\n",
       "    .dataframe tbody tr th:only-of-type {\n",
       "        vertical-align: middle;\n",
       "    }\n",
       "\n",
       "    .dataframe tbody tr th {\n",
       "        vertical-align: top;\n",
       "    }\n",
       "\n",
       "    .dataframe thead th {\n",
       "        text-align: right;\n",
       "    }\n",
       "</style>\n",
       "<table border=\"1\" class=\"dataframe\">\n",
       "  <thead>\n",
       "    <tr style=\"text-align: right;\">\n",
       "      <th></th>\n",
       "      <th>city</th>\n",
       "      <th>country</th>\n",
       "      <th>popu</th>\n",
       "    </tr>\n",
       "  </thead>\n",
       "  <tbody>\n",
       "    <tr>\n",
       "      <th>0</th>\n",
       "      <td>Madrid</td>\n",
       "      <td>Spain</td>\n",
       "      <td>3255944</td>\n",
       "    </tr>\n",
       "    <tr>\n",
       "      <th>1</th>\n",
       "      <td>Sofia</td>\n",
       "      <td>Bulgaria</td>\n",
       "      <td>1152556</td>\n",
       "    </tr>\n",
       "    <tr>\n",
       "      <th>2</th>\n",
       "      <td>Rotterdam</td>\n",
       "      <td>Netherlands</td>\n",
       "      <td>598199</td>\n",
       "    </tr>\n",
       "    <tr>\n",
       "      <th>3</th>\n",
       "      <td>Tyumen</td>\n",
       "      <td>Russia</td>\n",
       "      <td>519119</td>\n",
       "    </tr>\n",
       "    <tr>\n",
       "      <th>4</th>\n",
       "      <td>Petrozavodsk</td>\n",
       "      <td>Russia</td>\n",
       "      <td>265025</td>\n",
       "    </tr>\n",
       "    <tr>\n",
       "      <th>...</th>\n",
       "      <td>...</td>\n",
       "      <td>...</td>\n",
       "      <td>...</td>\n",
       "    </tr>\n",
       "    <tr>\n",
       "      <th>495</th>\n",
       "      <td>Ryazan'</td>\n",
       "      <td>Russia</td>\n",
       "      <td>520173</td>\n",
       "    </tr>\n",
       "    <tr>\n",
       "      <th>496</th>\n",
       "      <td>Lille</td>\n",
       "      <td>France</td>\n",
       "      <td>228328</td>\n",
       "    </tr>\n",
       "    <tr>\n",
       "      <th>497</th>\n",
       "      <td>Baranovichi</td>\n",
       "      <td>Belarus</td>\n",
       "      <td>168772</td>\n",
       "    </tr>\n",
       "    <tr>\n",
       "      <th>498</th>\n",
       "      <td>Elche</td>\n",
       "      <td>Spain</td>\n",
       "      <td>230112</td>\n",
       "    </tr>\n",
       "    <tr>\n",
       "      <th>499</th>\n",
       "      <td>Novokuznetsk</td>\n",
       "      <td>Russia</td>\n",
       "      <td>539616</td>\n",
       "    </tr>\n",
       "  </tbody>\n",
       "</table>\n",
       "<p>500 rows × 3 columns</p>\n",
       "</div>"
      ],
      "text/plain": [
       "             city      country     popu\n",
       "0          Madrid        Spain  3255944\n",
       "1           Sofia     Bulgaria  1152556\n",
       "2       Rotterdam  Netherlands   598199\n",
       "3          Tyumen       Russia   519119\n",
       "4    Petrozavodsk       Russia   265025\n",
       "..            ...          ...      ...\n",
       "495       Ryazan'       Russia   520173\n",
       "496         Lille       France   228328\n",
       "497   Baranovichi      Belarus   168772\n",
       "498         Elche        Spain   230112\n",
       "499  Novokuznetsk       Russia   539616\n",
       "\n",
       "[500 rows x 3 columns]"
      ]
     },
     "execution_count": 69,
     "metadata": {},
     "output_type": "execute_result"
    }
   ],
   "source": [
    "data = p.read_csv('Population Data.csv')\n",
    "data"
   ]
  },
  {
   "cell_type": "markdown",
   "id": "811d32dd",
   "metadata": {},
   "source": [
    "### Mean of a Column in the Data Frame"
   ]
  },
  {
   "cell_type": "code",
   "execution_count": 79,
   "id": "82489f2e",
   "metadata": {},
   "outputs": [
    {
     "data": {
      "text/plain": [
       "444242.226"
      ]
     },
     "execution_count": 79,
     "metadata": {},
     "output_type": "execute_result"
    }
   ],
   "source": [
    "mean = data['popu'].mean()\n",
    "mean"
   ]
  },
  {
   "cell_type": "markdown",
   "id": "81bc2678",
   "metadata": {},
   "source": [
    "### Max of a Column in the Data Frame"
   ]
  },
  {
   "cell_type": "code",
   "execution_count": 77,
   "id": "4659e9eb",
   "metadata": {},
   "outputs": [
    {
     "data": {
      "text/plain": [
       "10381222"
      ]
     },
     "execution_count": 77,
     "metadata": {},
     "output_type": "execute_result"
    }
   ],
   "source": [
    "max = data['popu'].max()\n",
    "max"
   ]
  },
  {
   "cell_type": "markdown",
   "id": "10a6fd90",
   "metadata": {},
   "source": [
    "### Creating Data Frames"
   ]
  },
  {
   "cell_type": "code",
   "execution_count": 80,
   "id": "663fe1b7",
   "metadata": {},
   "outputs": [
    {
     "data": {
      "text/html": [
       "<div>\n",
       "<style scoped>\n",
       "    .dataframe tbody tr th:only-of-type {\n",
       "        vertical-align: middle;\n",
       "    }\n",
       "\n",
       "    .dataframe tbody tr th {\n",
       "        vertical-align: top;\n",
       "    }\n",
       "\n",
       "    .dataframe thead th {\n",
       "        text-align: right;\n",
       "    }\n",
       "</style>\n",
       "<table border=\"1\" class=\"dataframe\">\n",
       "  <thead>\n",
       "    <tr style=\"text-align: right;\">\n",
       "      <th></th>\n",
       "      <th>pop</th>\n",
       "      <th>offices</th>\n",
       "    </tr>\n",
       "  </thead>\n",
       "  <tbody>\n",
       "    <tr>\n",
       "      <th>berlin</th>\n",
       "      <td>5000</td>\n",
       "      <td>50.0</td>\n",
       "    </tr>\n",
       "    <tr>\n",
       "      <th>london</th>\n",
       "      <td>1000</td>\n",
       "      <td>10.0</td>\n",
       "    </tr>\n",
       "    <tr>\n",
       "      <th>tokyo</th>\n",
       "      <td>500</td>\n",
       "      <td>NaN</td>\n",
       "    </tr>\n",
       "  </tbody>\n",
       "</table>\n",
       "</div>"
      ],
      "text/plain": [
       "         pop  offices\n",
       "berlin  5000     50.0\n",
       "london  1000     10.0\n",
       "tokyo    500      NaN"
      ]
     },
     "execution_count": 80,
     "metadata": {},
     "output_type": "execute_result"
    }
   ],
   "source": [
    "population = p.Series([1000, 5000, 500], index=['london', 'berlin', 'tokyo'])\n",
    "offices = p.Series([10, 50], index=['london', 'berlin'])\n",
    "df = p.DataFrame({'pop': population, 'offices':offices})\n",
    "df"
   ]
  },
  {
   "cell_type": "markdown",
   "id": "5aab24b9",
   "metadata": {},
   "source": [
    "### Axes in Data Frames"
   ]
  },
  {
   "cell_type": "code",
   "execution_count": 82,
   "id": "b93c459c",
   "metadata": {},
   "outputs": [
    {
     "data": {
      "text/plain": [
       "[Index(['berlin', 'london', 'tokyo'], dtype='object'),\n",
       " Index(['pop', 'offices'], dtype='object')]"
      ]
     },
     "execution_count": 82,
     "metadata": {},
     "output_type": "execute_result"
    }
   ],
   "source": [
    "df.axes"
   ]
  },
  {
   "cell_type": "code",
   "execution_count": 83,
   "id": "3092dd9f",
   "metadata": {},
   "outputs": [
    {
     "data": {
      "text/plain": [
       "Index(['berlin', 'london', 'tokyo'], dtype='object')"
      ]
     },
     "execution_count": 83,
     "metadata": {},
     "output_type": "execute_result"
    }
   ],
   "source": [
    "df.axes[0]"
   ]
  },
  {
   "cell_type": "code",
   "execution_count": 84,
   "id": "44db52e9",
   "metadata": {},
   "outputs": [
    {
     "data": {
      "text/plain": [
       "Index(['pop', 'offices'], dtype='object')"
      ]
     },
     "execution_count": 84,
     "metadata": {},
     "output_type": "execute_result"
    }
   ],
   "source": [
    "df.axes[1]"
   ]
  },
  {
   "cell_type": "markdown",
   "id": "750badc6",
   "metadata": {},
   "source": [
    "### LOC and ILOC in Data Frames"
   ]
  },
  {
   "cell_type": "code",
   "execution_count": 86,
   "id": "c7746e7c",
   "metadata": {},
   "outputs": [
    {
     "data": {
      "text/plain": [
       "1      blue\n",
       "2       red\n",
       "3     green\n",
       "4    yellow\n",
       "5      cyan\n",
       "dtype: object"
      ]
     },
     "execution_count": 86,
     "metadata": {},
     "output_type": "execute_result"
    }
   ],
   "source": [
    "colors = p.Series(['blue', 'red', 'green', 'yellow', 'cyan'], index=[1, 2, 3, 4, 5])\n",
    "colors"
   ]
  },
  {
   "cell_type": "code",
   "execution_count": 87,
   "id": "46df2b7a",
   "metadata": {},
   "outputs": [
    {
     "data": {
      "text/plain": [
       "'blue'"
      ]
     },
     "execution_count": 87,
     "metadata": {},
     "output_type": "execute_result"
    }
   ],
   "source": [
    "colors.loc[1]"
   ]
  },
  {
   "cell_type": "code",
   "execution_count": 88,
   "id": "9c793d3f",
   "metadata": {},
   "outputs": [
    {
     "data": {
      "text/plain": [
       "'red'"
      ]
     },
     "execution_count": 88,
     "metadata": {},
     "output_type": "execute_result"
    }
   ],
   "source": [
    "colors.iloc[1]"
   ]
  },
  {
   "cell_type": "markdown",
   "id": "1cb0fe34",
   "metadata": {},
   "source": [
    "### Querying a Dataset"
   ]
  },
  {
   "cell_type": "code",
   "execution_count": 90,
   "id": "087e1af4",
   "metadata": {},
   "outputs": [
    {
     "data": {
      "text/plain": [
       "444242.226"
      ]
     },
     "execution_count": 90,
     "metadata": {},
     "output_type": "execute_result"
    }
   ],
   "source": [
    "data.popu.mean()"
   ]
  },
  {
   "cell_type": "code",
   "execution_count": 91,
   "id": "be5f1310",
   "metadata": {},
   "outputs": [
    {
     "data": {
      "text/html": [
       "<div>\n",
       "<style scoped>\n",
       "    .dataframe tbody tr th:only-of-type {\n",
       "        vertical-align: middle;\n",
       "    }\n",
       "\n",
       "    .dataframe tbody tr th {\n",
       "        vertical-align: top;\n",
       "    }\n",
       "\n",
       "    .dataframe thead th {\n",
       "        text-align: right;\n",
       "    }\n",
       "</style>\n",
       "<table border=\"1\" class=\"dataframe\">\n",
       "  <thead>\n",
       "    <tr style=\"text-align: right;\">\n",
       "      <th></th>\n",
       "      <th>city</th>\n",
       "      <th>country</th>\n",
       "      <th>popu</th>\n",
       "    </tr>\n",
       "  </thead>\n",
       "  <tbody>\n",
       "    <tr>\n",
       "      <th>3</th>\n",
       "      <td>Tyumen</td>\n",
       "      <td>Russia</td>\n",
       "      <td>519119</td>\n",
       "    </tr>\n",
       "    <tr>\n",
       "      <th>4</th>\n",
       "      <td>Petrozavodsk</td>\n",
       "      <td>Russia</td>\n",
       "      <td>265025</td>\n",
       "    </tr>\n",
       "    <tr>\n",
       "      <th>7</th>\n",
       "      <td>Naberezhnyye Chelny</td>\n",
       "      <td>Russia</td>\n",
       "      <td>509870</td>\n",
       "    </tr>\n",
       "    <tr>\n",
       "      <th>12</th>\n",
       "      <td>Groznyy</td>\n",
       "      <td>Russia</td>\n",
       "      <td>226100</td>\n",
       "    </tr>\n",
       "    <tr>\n",
       "      <th>28</th>\n",
       "      <td>Orenburg</td>\n",
       "      <td>Russia</td>\n",
       "      <td>550204</td>\n",
       "    </tr>\n",
       "    <tr>\n",
       "      <th>...</th>\n",
       "      <td>...</td>\n",
       "      <td>...</td>\n",
       "      <td>...</td>\n",
       "    </tr>\n",
       "    <tr>\n",
       "      <th>485</th>\n",
       "      <td>Taganrog</td>\n",
       "      <td>Russia</td>\n",
       "      <td>279056</td>\n",
       "    </tr>\n",
       "    <tr>\n",
       "      <th>487</th>\n",
       "      <td>Syzran'</td>\n",
       "      <td>Russia</td>\n",
       "      <td>189338</td>\n",
       "    </tr>\n",
       "    <tr>\n",
       "      <th>489</th>\n",
       "      <td>Nizhnekamsk</td>\n",
       "      <td>Russia</td>\n",
       "      <td>234297</td>\n",
       "    </tr>\n",
       "    <tr>\n",
       "      <th>495</th>\n",
       "      <td>Ryazan'</td>\n",
       "      <td>Russia</td>\n",
       "      <td>520173</td>\n",
       "    </tr>\n",
       "    <tr>\n",
       "      <th>499</th>\n",
       "      <td>Novokuznetsk</td>\n",
       "      <td>Russia</td>\n",
       "      <td>539616</td>\n",
       "    </tr>\n",
       "  </tbody>\n",
       "</table>\n",
       "<p>126 rows × 3 columns</p>\n",
       "</div>"
      ],
      "text/plain": [
       "                    city country    popu\n",
       "3                 Tyumen  Russia  519119\n",
       "4           Petrozavodsk  Russia  265025\n",
       "7    Naberezhnyye Chelny  Russia  509870\n",
       "12               Groznyy  Russia  226100\n",
       "28              Orenburg  Russia  550204\n",
       "..                   ...     ...     ...\n",
       "485             Taganrog  Russia  279056\n",
       "487              Syzran'  Russia  189338\n",
       "489          Nizhnekamsk  Russia  234297\n",
       "495              Ryazan'  Russia  520173\n",
       "499         Novokuznetsk  Russia  539616\n",
       "\n",
       "[126 rows x 3 columns]"
      ]
     },
     "execution_count": 91,
     "metadata": {},
     "output_type": "execute_result"
    }
   ],
   "source": [
    "data[data.country == 'Russia']"
   ]
  },
  {
   "cell_type": "code",
   "execution_count": 92,
   "id": "a6d87b88",
   "metadata": {},
   "outputs": [
    {
     "data": {
      "text/html": [
       "<div>\n",
       "<style scoped>\n",
       "    .dataframe tbody tr th:only-of-type {\n",
       "        vertical-align: middle;\n",
       "    }\n",
       "\n",
       "    .dataframe tbody tr th {\n",
       "        vertical-align: top;\n",
       "    }\n",
       "\n",
       "    .dataframe thead th {\n",
       "        text-align: right;\n",
       "    }\n",
       "</style>\n",
       "<table border=\"1\" class=\"dataframe\">\n",
       "  <thead>\n",
       "    <tr style=\"text-align: right;\">\n",
       "      <th></th>\n",
       "      <th>city</th>\n",
       "      <th>country</th>\n",
       "      <th>popu</th>\n",
       "    </tr>\n",
       "  </thead>\n",
       "  <tbody>\n",
       "    <tr>\n",
       "      <th>24</th>\n",
       "      <td>Klaipeda</td>\n",
       "      <td>Lithuania</td>\n",
       "      <td>192307</td>\n",
       "    </tr>\n",
       "    <tr>\n",
       "      <th>27</th>\n",
       "      <td>Riga</td>\n",
       "      <td>Latvia</td>\n",
       "      <td>742572</td>\n",
       "    </tr>\n",
       "    <tr>\n",
       "      <th>284</th>\n",
       "      <td>Vilnius</td>\n",
       "      <td>Lithuania</td>\n",
       "      <td>542366</td>\n",
       "    </tr>\n",
       "    <tr>\n",
       "      <th>342</th>\n",
       "      <td>Kaunas</td>\n",
       "      <td>Lithuania</td>\n",
       "      <td>374643</td>\n",
       "    </tr>\n",
       "  </tbody>\n",
       "</table>\n",
       "</div>"
      ],
      "text/plain": [
       "         city    country    popu\n",
       "24   Klaipeda  Lithuania  192307\n",
       "27       Riga     Latvia  742572\n",
       "284   Vilnius  Lithuania  542366\n",
       "342    Kaunas  Lithuania  374643"
      ]
     },
     "execution_count": 92,
     "metadata": {},
     "output_type": "execute_result"
    }
   ],
   "source": [
    "data[data.country.str.startswith('L')]"
   ]
  },
  {
   "cell_type": "code",
   "execution_count": 93,
   "id": "68d6cf92",
   "metadata": {},
   "outputs": [
    {
     "data": {
      "text/html": [
       "<div>\n",
       "<style scoped>\n",
       "    .dataframe tbody tr th:only-of-type {\n",
       "        vertical-align: middle;\n",
       "    }\n",
       "\n",
       "    .dataframe tbody tr th {\n",
       "        vertical-align: top;\n",
       "    }\n",
       "\n",
       "    .dataframe thead th {\n",
       "        text-align: right;\n",
       "    }\n",
       "</style>\n",
       "<table border=\"1\" class=\"dataframe\">\n",
       "  <thead>\n",
       "    <tr style=\"text-align: right;\">\n",
       "      <th></th>\n",
       "      <th>city</th>\n",
       "      <th>country</th>\n",
       "      <th>popu</th>\n",
       "    </tr>\n",
       "  </thead>\n",
       "  <tbody>\n",
       "    <tr>\n",
       "      <th>98</th>\n",
       "      <td>Karlsruhe</td>\n",
       "      <td>Germany</td>\n",
       "      <td>283799</td>\n",
       "    </tr>\n",
       "    <tr>\n",
       "      <th>332</th>\n",
       "      <td>Hamburg-Mitte</td>\n",
       "      <td>Germany</td>\n",
       "      <td>233144</td>\n",
       "    </tr>\n",
       "    <tr>\n",
       "      <th>444</th>\n",
       "      <td>Herne</td>\n",
       "      <td>Germany</td>\n",
       "      <td>172108</td>\n",
       "    </tr>\n",
       "  </tbody>\n",
       "</table>\n",
       "</div>"
      ],
      "text/plain": [
       "              city  country    popu\n",
       "98       Karlsruhe  Germany  283799\n",
       "332  Hamburg-Mitte  Germany  233144\n",
       "444          Herne  Germany  172108"
      ]
     },
     "execution_count": 93,
     "metadata": {},
     "output_type": "execute_result"
    }
   ],
   "source": [
    "data[(data.city.str.endswith('e')) & (data.country == 'Germany')]"
   ]
  },
  {
   "cell_type": "code",
   "execution_count": 102,
   "id": "7bbfb10f",
   "metadata": {},
   "outputs": [
    {
     "data": {
      "text/html": [
       "<div>\n",
       "<style scoped>\n",
       "    .dataframe tbody tr th:only-of-type {\n",
       "        vertical-align: middle;\n",
       "    }\n",
       "\n",
       "    .dataframe tbody tr th {\n",
       "        vertical-align: top;\n",
       "    }\n",
       "\n",
       "    .dataframe thead th {\n",
       "        text-align: right;\n",
       "    }\n",
       "</style>\n",
       "<table border=\"1\" class=\"dataframe\">\n",
       "  <thead>\n",
       "    <tr style=\"text-align: right;\">\n",
       "      <th></th>\n",
       "      <th>city</th>\n",
       "      <th>country</th>\n",
       "      <th>popu</th>\n",
       "    </tr>\n",
       "  </thead>\n",
       "  <tbody>\n",
       "    <tr>\n",
       "      <th>9</th>\n",
       "      <td>Albacete</td>\n",
       "      <td>Spain</td>\n",
       "      <td>169716</td>\n",
       "    </tr>\n",
       "    <tr>\n",
       "      <th>67</th>\n",
       "      <td>Getafe</td>\n",
       "      <td>Spain</td>\n",
       "      <td>167164</td>\n",
       "    </tr>\n",
       "    <tr>\n",
       "      <th>242</th>\n",
       "      <td>Salamanca</td>\n",
       "      <td>Spain</td>\n",
       "      <td>155619</td>\n",
       "    </tr>\n",
       "    <tr>\n",
       "      <th>374</th>\n",
       "      <td>Nou Barris</td>\n",
       "      <td>Spain</td>\n",
       "      <td>166310</td>\n",
       "    </tr>\n",
       "    <tr>\n",
       "      <th>399</th>\n",
       "      <td>Alcorcon</td>\n",
       "      <td>Spain</td>\n",
       "      <td>167967</td>\n",
       "    </tr>\n",
       "    <tr>\n",
       "      <th>422</th>\n",
       "      <td>Hortaleza</td>\n",
       "      <td>Spain</td>\n",
       "      <td>161661</td>\n",
       "    </tr>\n",
       "    <tr>\n",
       "      <th>479</th>\n",
       "      <td>San Blas-Canillejas</td>\n",
       "      <td>Spain</td>\n",
       "      <td>157367</td>\n",
       "    </tr>\n",
       "    <tr>\n",
       "      <th>493</th>\n",
       "      <td>Horta-Guinardo</td>\n",
       "      <td>Spain</td>\n",
       "      <td>168092</td>\n",
       "    </tr>\n",
       "  </tbody>\n",
       "</table>\n",
       "</div>"
      ],
      "text/plain": [
       "                    city country    popu\n",
       "9               Albacete   Spain  169716\n",
       "67                Getafe   Spain  167164\n",
       "242            Salamanca   Spain  155619\n",
       "374           Nou Barris   Spain  166310\n",
       "399             Alcorcon   Spain  167967\n",
       "422            Hortaleza   Spain  161661\n",
       "479  San Blas-Canillejas   Spain  157367\n",
       "493       Horta-Guinardo   Spain  168092"
      ]
     },
     "execution_count": 102,
     "metadata": {},
     "output_type": "execute_result"
    }
   ],
   "source": [
    "data[(data.popu < 170000) & (data.country == 'Spain')]"
   ]
  },
  {
   "cell_type": "markdown",
   "id": "b6bbb6e1",
   "metadata": {},
   "source": [
    "### Statistics using Pandas"
   ]
  },
  {
   "cell_type": "code",
   "execution_count": 103,
   "id": "31687f03",
   "metadata": {},
   "outputs": [
    {
     "data": {
      "text/plain": [
       "222121113"
      ]
     },
     "execution_count": 103,
     "metadata": {},
     "output_type": "execute_result"
    }
   ],
   "source": [
    "data.popu.sum()"
   ]
  },
  {
   "cell_type": "code",
   "execution_count": 104,
   "id": "2c272f42",
   "metadata": {},
   "outputs": [
    {
     "data": {
      "text/plain": [
       "155619"
      ]
     },
     "execution_count": 104,
     "metadata": {},
     "output_type": "execute_result"
    }
   ],
   "source": [
    "data.popu.min()"
   ]
  },
  {
   "cell_type": "code",
   "execution_count": 105,
   "id": "42a8c14f",
   "metadata": {},
   "outputs": [
    {
     "data": {
      "text/plain": [
       "10381222"
      ]
     },
     "execution_count": 105,
     "metadata": {},
     "output_type": "execute_result"
    }
   ],
   "source": [
    "data.popu.max()"
   ]
  },
  {
   "cell_type": "markdown",
   "id": "18df8e7b",
   "metadata": {},
   "source": [
    "# ITNA KAAFU HAI"
   ]
  },
  {
   "cell_type": "code",
   "execution_count": null,
   "id": "48bb3a23",
   "metadata": {},
   "outputs": [],
   "source": []
  }
 ],
 "metadata": {
  "kernelspec": {
   "display_name": "Python 3 (ipykernel)",
   "language": "python",
   "name": "python3"
  },
  "language_info": {
   "codemirror_mode": {
    "name": "ipython",
    "version": 3
   },
   "file_extension": ".py",
   "mimetype": "text/x-python",
   "name": "python",
   "nbconvert_exporter": "python",
   "pygments_lexer": "ipython3",
   "version": "3.11.5"
  }
 },
 "nbformat": 4,
 "nbformat_minor": 5
}
